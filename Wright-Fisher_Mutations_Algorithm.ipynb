{
 "cells": [
  {
   "cell_type": "code",
   "execution_count": 25,
   "metadata": {},
   "outputs": [
    {
     "data": {
      "image/png": "[encoded data removed]",
      "text/plain": [
       "Figure(PyObject <Figure size 640x480 with 1 Axes>)"
      ]
     },
     "metadata": {},
     "output_type": "display_data"
    },
    {
     "data": {
      "text/plain": [
       "1-element Array{PyCall.PyObject,1}:\n",
       " PyObject <matplotlib.lines.Line2D object at 0x7f617b119c88>"
      ]
     },
     "execution_count": 25,
     "metadata": {},
     "output_type": "execute_result"
    }
   ],
   "source": [
    "using PyPlot\n",
    "\n",
    "function nextGeneration(populationSize, proportion)\n",
    "    \"\"\"Returns the proportion of the new generation, \n",
    "    using the old generation.\"\"\"\n",
    "    newProportion = 0\n",
    "    for i in 1:populationSize\n",
    "        # rand() gives a number in (0,1). Simulation of a random variable following a Bernoulli distribution\n",
    "        # of parameter \"proportion/populationSize\"\n",
    "        if rand() < proportion/populationSize\n",
    "            newProportion += 1\n",
    "        end\n",
    "    end\n",
    "    return newProportion\n",
    "end\n",
    "\n",
    "\n",
    "function mutations(populationSize, proportion, probability0to1, probability1to0)\n",
    "    \"\"\"Applying the mutations for a generation given proportion.\n",
    "    probability0to1 is a fixed (float) number between 0 and 1 that represented the transition probability from 0 to 1.\n",
    "    probability1to0 is a fixed (float) number between 0 and 1 that represented the transition probability from 1 to 0.\"\"\"\n",
    "    \n",
    "    newProportion = proportion\n",
    "    for j in 1:(populationSize-proportion)\n",
    "        if rand() <= probability0to1\n",
    "            newProportion += 1\n",
    "        end\n",
    "    end    \n",
    "\n",
    "    for j in 1:proportion\n",
    "        if rand() <= probability1to0\n",
    "            newProportion -= 1\n",
    "        end\n",
    "    end\n",
    "\n",
    "    return newProportion\n",
    "end\n",
    "\n",
    "function nextGenerationMutations(populationSize, proportion, probability0to1, probability1to0)\n",
    "    \"\"\"Returns the new vector of population and its characteristic, \n",
    "    using the vector of the old generation and its characteristic after applying mutations given by the two \n",
    "    transition probabilities probability0to1 and probability1to0.\"\"\"\n",
    "    \n",
    "    # Applying the mutations\n",
    "    proportionAfterMutations = mutations(populationSize, proportion, probability0to1, probability1to0) \n",
    "    \n",
    "    # Producing the next generation\n",
    "    return nextGeneration!(populationSize, proportionAfterMutations)\n",
    "end\n",
    "\n",
    "function trajectoryMutations(populationSize, initialProportion, probability0to1, \n",
    "        probability1to0, finalTime)\n",
    "    \"\"\"Run the Wright-Fisher algorithm with mutations. Returns the list of proportions over time (for now).\n",
    "    finalTime is how many iterations you do.\"\"\"\n",
    "    \n",
    "    listOfProportions = zeros(Float64, populationSize)\n",
    "    \n",
    "    # Initializing the population\n",
    "    currentProportion = initialProportion\n",
    "    \n",
    "    # First proportion added to trajectory\n",
    "    listOfProportions[1] = currentProportion\n",
    "\n",
    "    for time in 2:finalTime\n",
    "        \n",
    "        currentProportion = nextGenerationMutations(populationSize, currentProportion,\n",
    "        probability0to1, probability1to0)\n",
    "        \n",
    "        # Adding the proportion to the plot\n",
    "        listOfProportions[time] = currentProportion\n",
    "    end\n",
    "    \n",
    "    # Returns the entire trajectory\n",
    "    return listOfProportions\n",
    "end\n",
    "\n",
    "function plotTrajectory(populationSize, trajectory)\n",
    "    \"\"\"Plot a trajectory. populationSize is an argument so that we can fix the zoom.\"\"\"\n",
    "    ioff()\n",
    "    \n",
    "    listOfTimes = collect(1:length(trajectory))\n",
    "    \n",
    "    title(\"Proportion over time\")\n",
    "    xlabel(\"Time\")\n",
    "    ylabel(\"Proportion\")\n",
    "    ylim(0, populationSize)\n",
    "    grid(true)\n",
    "    \n",
    "    plot(listOfTimes, trajectory, color=\"red\")\n",
    "end\n",
    "\n",
    "#########################################################################################\n",
    "# Plot of a trajectory\n",
    "#########################################################################################\n",
    "plotTrajectory(100, trajectoryMutations(100, 1, 0.001, 0.0001, 100))"
   ]
  },
  {
   "cell_type": "code",
   "execution_count": null,
   "metadata": {},
   "outputs": [],
   "source": []
  }
 ],
 "metadata": {
  "kernelspec": {
   "display_name": "Julia 1.0.1",
   "language": "julia",
   "name": "julia-1.0"
  },
  "language_info": {
   "file_extension": ".jl",
   "mimetype": "application/julia",
   "name": "julia",
   "version": "1.0.1"
  }
 },
 "nbformat": 4,
 "nbformat_minor": 2
}
