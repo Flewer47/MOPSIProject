{
 "cells": [
  {
   "cell_type": "code",
   "execution_count": 20,
   "metadata": {},
   "outputs": [
    {
     "data": {
      "image/png": "[encoded data removed]",
      "text/plain": [
       "Figure(PyObject <Figure size 640x480 with 1 Axes>)"
      ]
     },
     "metadata": {},
     "output_type": "display_data"
    },
    {
     "name": "stdout",
     "output_type": "stream",
     "text": [
      "37\n"
     ]
    },
    {
     "data": {
      "text/plain": [
       "LLN_InfTimeAbsorption (generic function with 1 method)"
      ]
     },
     "execution_count": 20,
     "metadata": {},
     "output_type": "execute_result"
    }
   ],
   "source": [
    "using PyPlot\n",
    "\n",
    "\n",
    "function nextGeneration(populationSize, proportion)\n",
    "    \"\"\"Returns the proportion of the new generation, \n",
    "    using the old generation.\"\"\"\n",
    "    newProportion = 0\n",
    "    for i in 1:populationSize\n",
    "        # rand() gives a number in (0,1). Simulation of a random variable following a Bernoulli distribution\n",
    "        # of parameter \"proportion/populationSize\"\n",
    "        if rand() < proportion/populationSize\n",
    "            newProportion += 1\n",
    "        end\n",
    "    end\n",
    "    return newProportion\n",
    "end\n",
    "\n",
    "\n",
    "function trajectory(populationSize, initialProportion, finalTime)\n",
    "    \"\"\"Run the Wright-Fisher model algorithm. Return the entire trajectory. \n",
    "    Stops when finalTime generations are produced or when an absorbing state is reached.\n",
    "    finalTime is how many generations you produce.\n",
    "    \"\"\"\n",
    "    \n",
    "    listOfProportions = Float64[]\n",
    "    infTimeAbsorption = 0\n",
    "    \n",
    "    # Initializing the population\n",
    "    currentProportion = initialProportion\n",
    "    \n",
    "    # First proportion added to the trajectory\n",
    "    push!(listOfProportions, currentProportion)\n",
    "\n",
    "    for time in 2:finalTime\n",
    "        \n",
    "        currentProportion = nextGeneration(populationSize, currentProportion)\n",
    "        \n",
    "        # Getting the time of absorption\n",
    "        if (currentProportion == 0 || currentProportion == populationSize)\n",
    "            infTimeAbsorption = time\n",
    "        end\n",
    "        \n",
    "        # Adding the proportion to the trajectory\n",
    "        push!(listOfProportions, currentProportion)\n",
    "        \n",
    "        # Break the loop when an absorbance state is reached\n",
    "        if (infTimeAbsorption != 0)\n",
    "            finalTime = time\n",
    "            break\n",
    "        end\n",
    "    end\n",
    "\n",
    "    # Returns the time of absorption, 0 if there is none, and the entire trajectory.\n",
    "    return infTimeAbsorption, listOfProportions\n",
    "end\n",
    "\n",
    "function plotTrajectory(populationSize, trajectory)\n",
    "    \"\"\"Plot a trajectory. populationSize is an argument so that we can fix the zoom.\"\"\"\n",
    "    ioff()\n",
    "    \n",
    "    listOfTimes = collect(1:length(trajectory))\n",
    "    \n",
    "    title(\"Proportion over time\")\n",
    "    xlabel(\"Time\")\n",
    "    ylabel(\"Proportion\")\n",
    "    ylim(0, populationSize)\n",
    "    grid(true)\n",
    "    \n",
    "    plot(listOfTimes, trajectory, color=\"red\")\n",
    "end\n",
    "\n",
    "#########################################################################################\n",
    "# Plot of a trajectory\n",
    "#########################################################################################\n",
    "absorptionTime, traj = trajectory(100, 50, 100)\n",
    "println(absorptionTime)\n",
    "plotTrajectory(100, traj)\n",
    "\n",
    "#########################################################################################\n",
    "# Mean of the Time Absorption using the law of large numbers\n",
    "#########################################################################################\n",
    "\n",
    "function LLN_InfTimeAbsorption(numberOfIterations, populationSize, initialProportion, finalTime)\n",
    "    \"\"\"Runs the Wright-Fisher Algorithm to simulate the Law of Large Numbers for the minimum time of Absorption.\n",
    "    numberOfIterations is how many times you run the Wright-Fisher Algorithm\"\"\"\n",
    "\n",
    "\n",
    "    # For the plot\n",
    "    iterations = collect(1:numberOfIterations)\n",
    "    # For now it has 2 vectors to access all the informations easily. Only the one storing the\n",
    "    # arithmetic mean is needed though.\n",
    "    collectionOfTimeAbsorption = zeros(Float64, numberOfIterations)\n",
    "    arithmeticMeanTimeAbsorption = zeros(Float64, numberOfIterations)\n",
    "\n",
    "    # Algorithm\n",
    "\n",
    "    # Initialization\n",
    "    res, vector = trajectory(populationSize, initialProportion, finalTime)\n",
    "    collectionOfTimeAbsorption[1] = res\n",
    "    arithmeticMeanTimeAbsorption[1] = res\n",
    "\n",
    "    for i in 2:numberOfIterations\n",
    "        res, vector = trajectory(populationSize, initialProportion, finalTime)\n",
    "        collectionOfTimeAbsorption[i] = res\n",
    "        arithmeticMeanTimeAbsorption[i] = (arithmeticMeanTimeAbsorption[i-1]*(i-1)+res)/i\n",
    "    end\n",
    "    \n",
    "    return arithmeticMeanTimeAbsorption\n",
    "end\n",
    "\n",
    "#plotTrajectory(100, LLN_InfTimeAbsorption(2000, 100, 50, 100))"
   ]
  },
  {
   "cell_type": "code",
   "execution_count": null,
   "metadata": {},
   "outputs": [],
   "source": []
  }
 ],
 "metadata": {
  "kernelspec": {
   "display_name": "Julia 1.0.1",
   "language": "julia",
   "name": "julia-1.0"
  },
  "language_info": {
   "file_extension": ".jl",
   "mimetype": "application/julia",
   "name": "julia",
   "version": "1.0.1"
  }
 },
 "nbformat": 4,
 "nbformat_minor": 2
}
